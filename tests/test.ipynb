{
 "cells": [
  {
   "cell_type": "code",
   "execution_count": 18,
   "metadata": {},
   "outputs": [
    {
     "name": "stdout",
     "output_type": "stream",
     "text": [
      "Collecting pydantic\n",
      "  Downloading pydantic-2.11.7-py3-none-any.whl.metadata (67 kB)\n",
      "Collecting annotated-types>=0.6.0 (from pydantic)\n",
      "  Using cached annotated_types-0.7.0-py3-none-any.whl.metadata (15 kB)\n",
      "Collecting pydantic-core==2.33.2 (from pydantic)\n",
      "  Downloading pydantic_core-2.33.2-cp310-cp310-macosx_11_0_arm64.whl.metadata (6.8 kB)\n",
      "Requirement already satisfied: typing-extensions>=4.12.2 in /Users/seun/anaconda3/envs/myenv/lib/python3.10/site-packages (from pydantic) (4.14.0)\n",
      "Collecting typing-inspection>=0.4.0 (from pydantic)\n",
      "  Downloading typing_inspection-0.4.1-py3-none-any.whl.metadata (2.6 kB)\n",
      "Downloading pydantic-2.11.7-py3-none-any.whl (444 kB)\n",
      "Downloading pydantic_core-2.33.2-cp310-cp310-macosx_11_0_arm64.whl (1.9 MB)\n",
      "\u001b[2K   \u001b[90m━━━━━━━━━━━━━━━━━━━━━━━━━━━━━━━━━━━━━━━━\u001b[0m \u001b[32m1.9/1.9 MB\u001b[0m \u001b[31m1.0 MB/s\u001b[0m eta \u001b[36m0:00:00\u001b[0m00:01\u001b[0m0:00:01\u001b[0m\n",
      "\u001b[?25hUsing cached annotated_types-0.7.0-py3-none-any.whl (13 kB)\n",
      "Downloading typing_inspection-0.4.1-py3-none-any.whl (14 kB)\n",
      "Installing collected packages: typing-inspection, pydantic-core, annotated-types, pydantic\n",
      "\u001b[2K   \u001b[90m━━━━━━━━━━━━━━━━━━━━━━━━━━━━━━━━━━━━━━━━\u001b[0m \u001b[32m4/4\u001b[0m [pydantic]3/4\u001b[0m [pydantic]\n",
      "\u001b[1A\u001b[2KSuccessfully installed annotated-types-0.7.0 pydantic-2.11.7 pydantic-core-2.33.2 typing-inspection-0.4.1\n"
     ]
    }
   ],
   "source": [
    "\n",
    "!pip install pydantic"
   ]
  },
  {
   "cell_type": "code",
   "execution_count": 20,
   "metadata": {},
   "outputs": [],
   "source": [
    "import json\n",
    "import re\n",
    "from pydantic import BaseModel, Field\n",
    "from typing import List, Optional, Dict, Any\n",
    "\n",
    "class KnowledgeItem(BaseModel):\n",
    "    \"\"\"Model for knowledge base items\"\"\"\n",
    "    content: str\n",
    "    source: str\n",
    "    relevance_score: float\n",
    "    category: Optional[str] = None\n",
    "\n",
    "knowledge_items: List[KnowledgeItem] = []"
   ]
  },
  {
   "cell_type": "code",
   "execution_count": 16,
   "metadata": {},
   "outputs": [],
   "source": [
    "with open(\"/Users/seun/Downloads/AI_ML Engineer/docs/categories.json\", 'r') as f:\n",
    "    categories = json.load(f)['categories']"
   ]
  },
  {
   "cell_type": "code",
   "execution_count": 3,
   "metadata": {},
   "outputs": [
    {
     "data": {
      "text/plain": [
       "dict_items([('password_reset', {'description': 'Password-related issues including resets, lockouts, and policy questions', 'typical_resolution_time': '5-10 minutes', 'escalation_triggers': ['Multiple failed resets', 'Account security concerns']}), ('software_installation', {'description': 'Issues with installing, updating, or configuring software applications', 'typical_resolution_time': '10-30 minutes', 'escalation_triggers': ['Unapproved software requests', 'System compatibility issues']}), ('hardware_failure', {'description': 'Physical hardware problems requiring repair or replacement', 'typical_resolution_time': '2-3 business days', 'escalation_triggers': ['All hardware failures require escalation']}), ('network_connectivity', {'description': 'Network access issues including WiFi, VPN, and internet connectivity', 'typical_resolution_time': '15-45 minutes', 'escalation_triggers': ['Network infrastructure issues', 'Multiple users affected']}), ('email_configuration', {'description': 'Email setup, synchronization, and configuration issues', 'typical_resolution_time': '10-20 minutes', 'escalation_triggers': ['Server configuration changes', 'Distribution list modifications']}), ('security_incident', {'description': 'Potential security threats, malware, or suspicious activity', 'typical_resolution_time': 'Immediate response', 'escalation_triggers': ['All security incidents require immediate escalation']}), ('policy_question', {'description': 'Questions about company IT policies and procedures', 'typical_resolution_time': '5-15 minutes', 'escalation_triggers': ['Policy clarification needed', 'Exception requests']})])"
      ]
     },
     "execution_count": 3,
     "metadata": {},
     "output_type": "execute_result"
    }
   ],
   "source": [
    "categories.items()"
   ]
  },
  {
   "cell_type": "code",
   "execution_count": 4,
   "metadata": {},
   "outputs": [],
   "source": [
    "categories_text = \"\"\n",
    "for category, info in categories.items():\n",
    "    categories_text += f\"- {category}: {info['description']}\\n\""
   ]
  },
  {
   "cell_type": "code",
   "execution_count": 5,
   "metadata": {},
   "outputs": [
    {
     "data": {
      "text/plain": [
       "'- password_reset: Password-related issues including resets, lockouts, and policy questions\\n- software_installation: Issues with installing, updating, or configuring software applications\\n- hardware_failure: Physical hardware problems requiring repair or replacement\\n- network_connectivity: Network access issues including WiFi, VPN, and internet connectivity\\n- email_configuration: Email setup, synchronization, and configuration issues\\n- security_incident: Potential security threats, malware, or suspicious activity\\n- policy_question: Questions about company IT policies and procedures\\n'"
      ]
     },
     "execution_count": 5,
     "metadata": {},
     "output_type": "execute_result"
    }
   ],
   "source": [
    "categories_text"
   ]
  },
  {
   "cell_type": "code",
   "execution_count": 7,
   "metadata": {},
   "outputs": [],
   "source": [
    "\n",
    "with open(\"/Users/seun/Downloads/AI_ML Engineer/knowledge_base/knowledge_base.md\", 'r') as f:\n",
    "    content = f.read()\n",
    "\n",
    "# Split into sections\n",
    "sections = re.split(r'^##\\s+', content, flags=re.MULTILINE)\n",
    "\n",
    "for section in sections[1:]:  # Skip first empty section\n",
    "    lines = section.strip().split('\\n')\n",
    "    title = lines[0].strip()\n",
    "    content_lines = lines[1:]\n",
    "    "
   ]
  },
  {
   "cell_type": "code",
   "execution_count": 14,
   "metadata": {},
   "outputs": [
    {
     "data": {
      "text/plain": [
       "'Temporary equipment available for critical business needs'"
      ]
     },
     "execution_count": 14,
     "metadata": {},
     "output_type": "execute_result"
    }
   ],
   "source": [
    "for line in content_lines:\n",
    "    line = line.strip()\n",
    "    if line.startswith('-') and len(line) > 1:\n",
    "        item_content = line[1:].strip()\n",
    "        if item_content:\n",
    "            knowledge_items.append(KnowledgeItem(\n",
    "                content=item_content,\n",
    "                source=f\"Knowledge Base - {title}\",\n",
    "                relevance_score=0.0,\n",
    "                category= _map_category_from_title(title)\n",
    "            ))\n",
    "item_content"
   ]
  },
  {
   "cell_type": "code",
   "execution_count": 11,
   "metadata": {},
   "outputs": [
    {
     "data": {
      "text/plain": [
       "['Hardware Support',\n",
       " '- Report hardware failures immediately to prevent data loss',\n",
       " '- Do not attempt repairs on laptops or monitors yourself',\n",
       " '- Backup important data before reporting hardware issues',\n",
       " '- Standard hardware replacement time is 2-3 business days',\n",
       " '- Temporary equipment available for critical business needs']"
      ]
     },
     "execution_count": 11,
     "metadata": {},
     "output_type": "execute_result"
    }
   ],
   "source": [
    "section.strip().split('\\n')"
   ]
  },
  {
   "cell_type": "code",
   "execution_count": 21,
   "metadata": {},
   "outputs": [
    {
     "ename": "SyntaxError",
     "evalue": "invalid syntax (1867177269.py, line 5)",
     "output_type": "error",
     "traceback": [
      "\u001b[0;36m  Cell \u001b[0;32mIn[21], line 5\u001b[0;36m\u001b[0m\n\u001b[0;31m    except:\u001b[0m\n\u001b[0m    ^\u001b[0m\n\u001b[0;31mSyntaxError\u001b[0m\u001b[0;31m:\u001b[0m invalid syntax\n"
     ]
    }
   ],
   "source": [
    "with open(\"/Users/seun/Downloads/AI_ML Engineer/docs/categories.json\", 'r') as f:\n",
    "    categories = json.load(f)['categories']\n",
    "    cat_info = categories.get(classification.category.value, {})\n",
    "    category_info = f\"Description: {cat_info.get('description', 'N/A')}\\nTypical Resolution Time: {cat_info.get('typical_resolution_time', 'N/A')}\"\n",
    "except:\n",
    "    category_info = \"Category information not available\""
   ]
  },
  {
   "cell_type": "code",
   "execution_count": null,
   "metadata": {},
   "outputs": [],
   "source": []
  }
 ],
 "metadata": {
  "kernelspec": {
   "display_name": "myenv",
   "language": "python",
   "name": "python3"
  },
  "language_info": {
   "codemirror_mode": {
    "name": "ipython",
    "version": 3
   },
   "file_extension": ".py",
   "mimetype": "text/x-python",
   "name": "python",
   "nbconvert_exporter": "python",
   "pygments_lexer": "ipython3",
   "version": "3.10.16"
  }
 },
 "nbformat": 4,
 "nbformat_minor": 2
}
